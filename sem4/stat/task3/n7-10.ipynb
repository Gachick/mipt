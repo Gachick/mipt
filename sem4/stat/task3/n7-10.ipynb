{
 "cells": [
  {
   "cell_type": "code",
   "execution_count": 220,
   "metadata": {},
   "outputs": [],
   "source": [
    "import numpy as np\n",
    "import matplotlib.pyplot as plt\n",
    "import scipy.stats as stats\n",
    "import scipy.special as special"
   ]
  },
  {
   "cell_type": "markdown",
   "metadata": {},
   "source": [
    "# 7)\n",
    "$$p(k)=\\frac{\\lambda^k}{k!}e^{-\\lambda} \\qquad M[\\xi]=\\lambda$$"
   ]
  },
  {
   "cell_type": "code",
   "execution_count": 221,
   "metadata": {},
   "outputs": [
    {
     "name": "stdout",
     "output_type": "stream",
     "text": [
      "npi=array([108.67017381,  66.28880603,  20.21808584,   4.11101079,\n",
      "         0.62692915])\n"
     ]
    }
   ],
   "source": [
    "mi = np.array([109, 65, 22, 3, 1])\n",
    "n = np.sum(mi)\n",
    "a = np.array([i for i in range(5)])\n",
    "\n",
    "lambda_est = np.sum(mi / n * a)\n",
    "pi = (lambda_est ** a) / (special.factorial(a)) * np.exp(-lambda_est)\n",
    "npi = pi * n\n",
    "print(f\"{npi=}\")"
   ]
  },
  {
   "cell_type": "markdown",
   "metadata": {},
   "source": [
    "Совмещаем 2-4"
   ]
  },
  {
   "cell_type": "code",
   "execution_count": 222,
   "metadata": {},
   "outputs": [
    {
     "name": "stdout",
     "output_type": "stream",
     "text": [
      "npi=array([108.67017381,  66.28880603,  25.04102016])\n"
     ]
    }
   ],
   "source": [
    "mi = np.array([mi[0], mi[1], np.sum(mi[2:5])])\n",
    "a = np.array([0, 1])\n",
    "\n",
    "pi = (lambda_est ** a) / (special.factorial(a)) * np.exp(-lambda_est)\n",
    "pi = np.append(pi, 1 - np.sum(pi))\n",
    "npi = pi * n\n",
    "print(f\"{npi=}\")"
   ]
  },
  {
   "cell_type": "code",
   "execution_count": 223,
   "metadata": {},
   "outputs": [
    {
     "name": "stdout",
     "output_type": "stream",
     "text": [
      "delta=0.06278383104696572\n",
      "p_value=0.969095694994221\n"
     ]
    }
   ],
   "source": [
    "delta = float(np.sum((npi-mi)**2 / npi))\n",
    "print(f\"{delta=}\")\n",
    "\n",
    "p_value = float(1-stats.chi2.cdf(delta, 2))\n",
    "print(f\"{p_value=}\")"
   ]
  },
  {
   "cell_type": "markdown",
   "metadata": {},
   "source": [
    "Нет оснований отвергнуть гипотезу"
   ]
  },
  {
   "cell_type": "markdown",
   "metadata": {},
   "source": [
    "# 8)"
   ]
  },
  {
   "cell_type": "code",
   "execution_count": 224,
   "metadata": {},
   "outputs": [
    {
     "name": "stdout",
     "output_type": "stream",
     "text": [
      "delta=20.48264235764236\n",
      "p_value=3.5665697735942636e-05\n"
     ]
    }
   ],
   "source": [
    "m = np.array([\n",
    "    [25, 50, 25],\n",
    "    [52, 41, 7]\n",
    "])\n",
    "n = np.sum(m)\n",
    "p = np.sum(m, axis=1) / n\n",
    "q = np.sum(m, axis=0) / n\n",
    "\n",
    "delta = 0\n",
    "h, w = m.shape\n",
    "for i in range(h):\n",
    "    for j in range(w):\n",
    "        delta += np.square(m[i, j] - n * p[i] * q[j]) / (n * p[i] * q[j])\n",
    "delta = float(delta)\n",
    "print(f\"{delta=}\")\n",
    "\n",
    "p_value=float(1-stats.chi2.cdf(delta, (h-1)*(w-1)))\n",
    "print(f\"{p_value=}\")"
   ]
  },
  {
   "cell_type": "markdown",
   "metadata": {},
   "source": [
    "Отвергаем гипотезу о независимости"
   ]
  },
  {
   "cell_type": "markdown",
   "metadata": {},
   "source": [
    "# 9)"
   ]
  },
  {
   "cell_type": "code",
   "execution_count": 225,
   "metadata": {},
   "outputs": [
    {
     "name": "stdout",
     "output_type": "stream",
     "text": [
      "delta=2.0771359218904255\n",
      "p_value=0.5565521530460769\n"
     ]
    }
   ],
   "source": [
    "m = np.array([\n",
    "    [33, 43, 80, 144],\n",
    "    [39, 35, 72, 154]\n",
    "])\n",
    "l, k = m.shape\n",
    "n = np.sum(m)\n",
    "nu = np.sum(m, axis=0) / n \n",
    "\n",
    "delta = 0\n",
    "for i in range(l):\n",
    "    mi = m[i, :]\n",
    "    ni = mi.sum()\n",
    "    delta += float(np.sum((mi - ni * nu) ** 2 / (ni * nu)))\n",
    "print(f\"{delta=}\")\n",
    "\n",
    "p_value=float(1-stats.chi2.cdf(delta, (k-1)*(l-1)))\n",
    "print(f\"{p_value=}\")"
   ]
  },
  {
   "cell_type": "markdown",
   "metadata": {},
   "source": [
    "Нет оснований отвергать гипотезу"
   ]
  },
  {
   "cell_type": "markdown",
   "metadata": {},
   "source": [
    "# 10)"
   ]
  },
  {
   "cell_type": "code",
   "execution_count": 226,
   "metadata": {},
   "outputs": [],
   "source": [
    "a = np.array([i for i in range(10)])\n",
    "mi = np.array([5, 8, 6, 12, 14, 18, 11, 6, 13, 7])\n",
    "n= np.sum(mi)\n",
    "\n",
    "sample = []\n",
    "for i in range(len(mi)):\n",
    "    sample += ([i] * mi[i])\n",
    "sample = np.array(sample)"
   ]
  },
  {
   "cell_type": "markdown",
   "metadata": {},
   "source": [
    "## a)"
   ]
  },
  {
   "cell_type": "markdown",
   "metadata": {},
   "source": [
    "$$H_0: \\xi \\sim R(0, 10)$$"
   ]
  },
  {
   "cell_type": "markdown",
   "metadata": {},
   "source": [
    "### Критерий $\\chi^2$:\n",
    "$$\\Delta=\\sum_{i=1}^{k}\\frac{(np_i - m_i)^{2}}{np_i} $$"
   ]
  },
  {
   "cell_type": "code",
   "execution_count": 227,
   "metadata": {},
   "outputs": [
    {
     "name": "stdout",
     "output_type": "stream",
     "text": [
      "delta=16.4\n",
      "p_value=0.058984030544419475\n"
     ]
    }
   ],
   "source": [
    "pi = np.array([1/10 for i in range(10)])\n",
    "delta = float(np.sum((n * pi - mi) ** 2 / (n * pi)))\n",
    "print(f\"{delta=}\")\n",
    "\n",
    "p_value=float(1-stats.chi2.cdf(delta, 10 - 1))\n",
    "print(f\"{p_value=}\")"
   ]
  },
  {
   "cell_type": "markdown",
   "metadata": {},
   "source": [
    "Нет оснований отвергать гипотезу"
   ]
  },
  {
   "cell_type": "markdown",
   "metadata": {},
   "source": [
    "### Критерий Колмогорова\n",
    "$$\\Delta = \\sqrt{n}\\sup \\limits_{x\\in\\R} |\\tilde{F}(x)-F(x)|$$"
   ]
  },
  {
   "cell_type": "code",
   "execution_count": 228,
   "metadata": {},
   "outputs": [
    {
     "name": "stdout",
     "output_type": "stream",
     "text": [
      "delta=1.3993999399939994\n",
      "p_value=0.03981541645689525\n"
     ]
    },
    {
     "data": {
      "image/png": "[encoded data removed]",
      "text/plain": [
       "<Figure size 640x480 with 1 Axes>"
      ]
     },
     "metadata": {},
     "output_type": "display_data"
    }
   ],
   "source": [
    "x = np.linspace(0, 10, 10000)\n",
    "ecdf = stats.ecdf(sample).cdf\n",
    "tf = ecdf.evaluate(x)\n",
    "f = cdf = stats.uniform.cdf(x, 0, 10)\n",
    "\n",
    "ax = plt.subplot()\n",
    "_ = ecdf.plot(ax)\n",
    "_ = ax.plot(x, f)\n",
    "\n",
    "delta = float(np.sqrt(n) * np.max(np.abs(tf - f)))\n",
    "print(f\"{delta=}\")\n",
    "\n",
    "p_value=float(special.kolmogorov(delta))\n",
    "print(f\"{p_value=}\")"
   ]
  },
  {
   "cell_type": "markdown",
   "metadata": {},
   "source": [
    "Отвергаем гипотезу"
   ]
  },
  {
   "cell_type": "markdown",
   "metadata": {},
   "source": [
    "## b)"
   ]
  },
  {
   "cell_type": "markdown",
   "metadata": {},
   "source": [
    "$$H_0: \\xi \\sim N(\\theta_1, \\theta_2^2)$$"
   ]
  },
  {
   "cell_type": "markdown",
   "metadata": {},
   "source": [
    "### Критерий $\\chi^2$:"
   ]
  },
  {
   "cell_type": "markdown",
   "metadata": {},
   "source": [
    "$$L(\\theta)=P_1^{m_1}\\dots P_k^{m_k} \\qquad L(\\theta)\\to\\max$$"
   ]
  },
  {
   "cell_type": "code",
   "execution_count": 229,
   "metadata": {},
   "outputs": [
    {
     "name": "stdout",
     "output_type": "stream",
     "text": [
      "theta_1=np.float64(5.289512509099219)\n",
      "theta_2=np.float64(2.672924991328697)\n"
     ]
    }
   ],
   "source": [
    "from scipy.optimize import differential_evolution\n",
    "\n",
    "def L(x):\n",
    "    loc = x[0]\n",
    "    scale = x[1]\n",
    "\n",
    "    pi = stats.norm.cdf([1, 2, 3, 4, 5, 6, 7, 8, 9], loc=loc, scale=scale)\n",
    "    product = pi[0] ** mi[0]\n",
    "    for i in range(8):\n",
    "        product *= (pi[i + 1] - pi[i]) ** mi[i+1]\n",
    "    product *= (1 - pi[-1]) ** mi[-1]\n",
    "\n",
    "    return - product\n",
    "\n",
    "\n",
    "theta_1, theta_2 = differential_evolution(\n",
    "    func=L,\n",
    "    bounds=[(3, 7), (1, 4)],\n",
    "    maxiter=10000,\n",
    ").x\n",
    "\n",
    "print(f\"{theta_1=}\")\n",
    "print(f\"{theta_2=}\")"
   ]
  },
  {
   "cell_type": "code",
   "execution_count": 230,
   "metadata": {},
   "outputs": [],
   "source": [
    "pi = stats.norm.cdf([1, 2, 3, 4, 5, 6, 7, 8, 9], theta_1, theta_2)\n",
    "\n",
    "npi = []\n",
    "npi.append(pi[0])\n",
    "for i in range(8):\n",
    "    npi.append(pi[i + 1] - pi[i])\n",
    "npi.append(1 - pi[-1])\n",
    "npi = np.array(npi)\n",
    "npi *= n"
   ]
  },
  {
   "cell_type": "markdown",
   "metadata": {},
   "source": [
    "$$\\Delta=\\sum_{i=1}^{n}\\frac{(np_i(\\vec{\\theta})-m_i)^{2}}{np_i(\\vec{\\theta})}$$"
   ]
  },
  {
   "cell_type": "code",
   "execution_count": 231,
   "metadata": {},
   "outputs": [
    {
     "name": "stdout",
     "output_type": "stream",
     "text": [
      "delta=9.808764981490027\n",
      "p_value=0.1996720906305709\n"
     ]
    }
   ],
   "source": [
    "delta = float(np.sum((npi-mi)**2 / npi))\n",
    "print(f\"{delta=}\")\n",
    "\n",
    "p_value = float(1-stats.chi2.cdf(delta, 10 - 1 - 2))\n",
    "print(f\"{p_value=}\")"
   ]
  },
  {
   "cell_type": "markdown",
   "metadata": {},
   "source": [
    "Нет оснований отвергать гипотезу"
   ]
  },
  {
   "cell_type": "markdown",
   "metadata": {},
   "source": [
    "### Критерий Колмогорова"
   ]
  },
  {
   "cell_type": "code",
   "execution_count": 232,
   "metadata": {},
   "outputs": [
    {
     "name": "stdout",
     "output_type": "stream",
     "text": [
      "delta=1.001955029161189\n",
      "p_value=0.0152\n"
     ]
    }
   ],
   "source": [
    "def delta_l(x):\n",
    "    x = np.sort(x)\n",
    "\n",
    "    mean = np.mean(x)\n",
    "    std = np.std(x, ddof=1)\n",
    "\n",
    "    ecdf = np.append([0], stats.ecdf(x).cdf.probabilities)\n",
    "    cdf = stats.norm.cdf(x, mean, std)\n",
    "    delta = np.sqrt(n) * np.max(np.abs(\n",
    "        np.append(\n",
    "            cdf - ecdf[:len(ecdf) - 1],\n",
    "            cdf - ecdf[1:]\n",
    "        )\n",
    "    ))\n",
    "\n",
    "    return delta\n",
    "\n",
    "mean = np.mean(sample)\n",
    "std = np.std(sample, ddof=1)\n",
    "\n",
    "bs = np.ndarray((50000))\n",
    "for i in range(50000):\n",
    "    resample = np.random.normal(mean, std, n)\n",
    "    bs[i] = delta_l(resample)\n",
    "\n",
    "\n",
    "x = np.linspace(0, 10, 10000)\n",
    "ecdf = stats.ecdf(sample).cdf\n",
    "tf = ecdf.evaluate(x)\n",
    "f = stats.norm.cdf(x, mean, std)\n",
    "\n",
    "delta = float(np.sqrt(n) * np.max(np.abs(tf - f)))\n",
    "print(f\"{delta=}\")\n",
    "\n",
    "p_value = np.count_nonzero(bs >= delta) / 50000\n",
    "print(f\"{p_value=}\")"
   ]
  },
  {
   "cell_type": "markdown",
   "metadata": {},
   "source": [
    "Отвергаем гипотезу"
   ]
  }
 ],
 "metadata": {
  "kernelspec": {
   "display_name": "Python 3",
   "language": "python",
   "name": "python3"
  },
  "language_info": {
   "codemirror_mode": {
    "name": "ipython",
    "version": 3
   },
   "file_extension": ".py",
   "mimetype": "text/x-python",
   "name": "python",
   "nbconvert_exporter": "python",
   "pygments_lexer": "ipython3",
   "version": "3.13.2"
  }
 },
 "nbformat": 4,
 "nbformat_minor": 2
}
