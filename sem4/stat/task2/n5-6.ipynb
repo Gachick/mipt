{
 "cells": [
  {
   "cell_type": "code",
   "execution_count": 532,
   "metadata": {},
   "outputs": [],
   "source": [
    "from random import random\n",
    "import math\n",
    "import numpy as np\n",
    "import matplotlib.pyplot as plt\n",
    "import scipy.stats as stats"
   ]
  },
  {
   "cell_type": "markdown",
   "metadata": {},
   "source": [
    "# 5"
   ]
  },
  {
   "cell_type": "markdown",
   "metadata": {},
   "source": [
    "## f)"
   ]
  },
  {
   "cell_type": "code",
   "execution_count": 533,
   "metadata": {},
   "outputs": [
    {
     "data": {
      "text/plain": [
       "array([33.14188645, 22.89459066, 34.31423948, 23.0470488 , 26.34017036,\n",
       "       28.55909973, 37.6485997 , 21.4859213 , 20.13949597, 34.71068233,\n",
       "       30.98294302, 23.99979203, 30.32374413, 36.35054768, 31.09240908,\n",
       "       20.1218225 , 26.12820508, 27.84337352, 38.52712791, 20.88403603,\n",
       "       37.7151253 , 37.31221153, 39.25340303, 33.82609362, 39.15947597,\n",
       "       33.91097034, 23.00328921, 34.41128216, 35.9705543 , 20.04910418,\n",
       "       39.81725316, 36.01662507, 25.66585299, 29.11662012, 24.18281624,\n",
       "       29.28282079, 36.34198947, 21.33836503, 21.37521383, 29.53865835,\n",
       "       31.6263877 , 31.53678663, 26.37557372, 28.55181364, 32.98414892,\n",
       "       20.42954903, 23.98531914, 27.65914389, 26.48639861, 34.91369767,\n",
       "       31.43526734, 35.7846945 , 37.15287689, 29.52973578, 28.10553429,\n",
       "       33.62549205, 33.8522279 , 38.11412827, 29.21607452, 24.04660507,\n",
       "       24.61603003, 39.054587  , 24.76153223, 25.16008833, 26.34478321,\n",
       "       26.54090667, 26.68391184, 31.1666041 , 39.7297089 , 39.39463029,\n",
       "       36.15431011, 36.49136589, 28.02955422, 39.96534156, 28.45690118,\n",
       "       28.47623217, 20.66336801, 33.21737664, 23.49486029, 35.04647374,\n",
       "       27.62906263, 37.10761329, 25.17953865, 38.75328793, 22.2871445 ,\n",
       "       30.60877266, 38.28729477, 23.36440541, 35.37710554, 26.08811792,\n",
       "       34.54293185, 35.94853029, 21.74099512, 35.87595177, 30.65189576,\n",
       "       33.53706762, 20.60499954, 32.40600675, 22.47713536, 39.70989567])"
      ]
     },
     "execution_count": 533,
     "metadata": {},
     "output_type": "execute_result"
    }
   ],
   "source": [
    "theta = 20\n",
    "n = 100\n",
    "xn = np.array([theta * (random()+1) for i in range(n)])\n",
    "xn"
   ]
  },
  {
   "cell_type": "code",
   "execution_count": 534,
   "metadata": {},
   "outputs": [
    {
     "name": "stdout",
     "output_type": "stream",
     "text": [
      "Точный доверительный интервал: (19.985200364628938, 20.351197306437953)\n",
      "Асимптотический доверительный интервал: (19.3979313366244, 20.960218468863804)\n"
     ]
    }
   ],
   "source": [
    "exact = (\n",
    "    float(np.max(xn) / (1 + np.pow(0.975, 1 / n))),\n",
    "    float(np.max(xn) / (1 + np.pow(0.025, 1 / n)))\n",
    ")\n",
    "\n",
    "alpha_1 = np.mean(xn)\n",
    "std = np.std(xn)\n",
    "\n",
    "asympt = (\n",
    "    float(-1.96 * np.sqrt(4 / (n * 9)) * std + 2 / 3 * alpha_1),\n",
    "    float(1.96 * np.sqrt(4 / (n * 9)) * std + 2 / 3 * alpha_1),\n",
    ")\n",
    "\n",
    "print(f\"Точный доверительный интервал: {exact}\")\n",
    "print(f\"Асимптотический доверительный интервал: {asympt}\")"
   ]
  },
  {
   "cell_type": "markdown",
   "metadata": {},
   "source": [
    "## g)"
   ]
  },
  {
   "cell_type": "code",
   "execution_count": 535,
   "metadata": {},
   "outputs": [
    {
     "name": "stdout",
     "output_type": "stream",
     "text": [
      "Бутстраповский доверительный интервал: (20.007674472866807, 20.082087050058696)\n"
     ]
    }
   ],
   "source": [
    "theta_est = (n + 1) / (2 * n + 1) * np.max(xn)\n",
    "\n",
    "bootstrap = stats.bootstrap(\n",
    "    (xn, ),\n",
    "    lambda x: (n + 1) / (2 * n + 1) * np.max(x) - theta_est,\n",
    "    n_resamples = 1000,\n",
    "    confidence_level=0.95\n",
    "    )\n",
    "bs_ci = bootstrap.confidence_interval\n",
    "bs_ci = (float(theta_est + bs_ci.low), float(theta_est + bs_ci.high))\n",
    "print(f\"Бутстраповский доверительный интервал: {bs_ci}\")"
   ]
  },
  {
   "cell_type": "markdown",
   "metadata": {},
   "source": [
    "## h)"
   ]
  },
  {
   "cell_type": "code",
   "execution_count": 542,
   "metadata": {},
   "outputs": [
    {
     "data": {
      "image/png": "[encoded data removed]",
      "text/plain": [
       "<Figure size 640x480 with 1 Axes>"
      ]
     },
     "metadata": {},
     "output_type": "display_data"
    }
   ],
   "source": [
    "for i, ci in enumerate([exact, asympt, bs_ci]):\n",
    "    plt.plot((ci[0], ci[1]), (i, i), 'o-')\n",
    "_ = plt.yticks(range(3),[\"Точный\", \"Асимптотический\", \"Бутстраповский\"])"
   ]
  },
  {
   "cell_type": "markdown",
   "metadata": {},
   "source": [
    "# 6"
   ]
  },
  {
   "cell_type": "markdown",
   "metadata": {},
   "source": [
    "## d)"
   ]
  },
  {
   "cell_type": "code",
   "execution_count": 537,
   "metadata": {},
   "outputs": [
    {
     "data": {
      "text/plain": [
       "array([1.287007  , 1.37829877, 2.09638655, 1.09843999, 1.13448788,\n",
       "       1.08655195, 2.46148611, 1.2466467 , 1.10462378, 1.12985658,\n",
       "       1.17757563, 1.00546793, 1.26038816, 1.36850406, 1.08310617,\n",
       "       1.3185418 , 1.03659869, 2.01233192, 1.49393512, 2.62081351,\n",
       "       3.47227151, 1.73539445, 1.51966686, 1.17973534, 1.13205616,\n",
       "       1.11827947, 1.04380641, 1.10693557, 1.11840194, 2.34434079,\n",
       "       1.87487902, 1.76418166, 1.09134923, 1.04198861, 1.08738024,\n",
       "       5.14698423, 1.07892547, 2.47779736, 1.03976166, 1.18559747,\n",
       "       1.09346627, 4.06238843, 1.0340014 , 2.22600551, 1.01859238,\n",
       "       1.1120225 , 1.23445491, 1.35273087, 1.39167412, 1.05770141,\n",
       "       1.37545238, 2.11089396, 1.61127617, 1.71777997, 1.0804489 ,\n",
       "       1.33957043, 1.34434618, 1.2238216 , 1.14010738, 1.02191727,\n",
       "       1.71569885, 1.11284965, 1.20087569, 1.22714349, 2.90270821,\n",
       "       2.0083902 , 1.73723112, 1.8826965 , 1.01728295, 1.18030554,\n",
       "       1.60679436, 1.54678483, 1.1598989 , 1.09151419, 1.09169567,\n",
       "       1.4978799 , 1.11151134, 1.35992534, 1.05030265, 1.94418413,\n",
       "       1.18714241, 1.05326517, 1.1182626 , 1.2248113 , 1.0610666 ,\n",
       "       4.53975583, 1.05418867, 4.69869131, 1.38071396, 1.22210993,\n",
       "       2.68211209, 1.31006255, 1.62975498, 1.20183174, 1.25916255,\n",
       "       1.61803938, 1.51562389, 1.54097583, 1.05373848, 1.25234088])"
      ]
     },
     "execution_count": 537,
     "metadata": {},
     "output_type": "execute_result"
    }
   ],
   "source": [
    "theta = 4\n",
    "n = 100\n",
    "xn = np.array([np.pow(1-random(), 1/(1-theta)) for i in range(n)])\n",
    "xn"
   ]
  },
  {
   "cell_type": "code",
   "execution_count": 538,
   "metadata": {},
   "outputs": [
    {
     "name": "stdout",
     "output_type": "stream",
     "text": [
      "Доверительный интервал тета: (3.2662800247364276, 4.37123247460792)\n",
      "Доверительный интервал медианы: (1.2171446477714714, 1.3404123592055002)\n"
     ]
    }
   ],
   "source": [
    "theta_est= (n / np.sum(np.log(xn))) + 1\n",
    "\n",
    "ci_theta = (\n",
    "    float(theta_est - 1.96 * (theta_est - 1) / np.sqrt(n)),\n",
    "    float(theta_est + 1.96 * (theta_est - 1) / np.sqrt(n)),\n",
    ")\n",
    "\n",
    "med_est = np.pow(2, 1 / (theta_est - 1))\n",
    "\n",
    "ci_med = (\n",
    "    float((-1.96 * np.log(2) / (np.sqrt(n) * (theta_est - 1)) + 1) * med_est),\n",
    "    float((1.96 * np.log(2) / (np.sqrt(n) * (theta_est - 1)) + 1) * med_est),\n",
    ")\n",
    "\n",
    "print(f\"Доверительный интервал тета: {ci_theta}\")\n",
    "print(f\"Доверительный интервал медианы: {ci_med}\")"
   ]
  },
  {
   "cell_type": "markdown",
   "metadata": {},
   "source": [
    "## t)"
   ]
  },
  {
   "cell_type": "code",
   "execution_count": 539,
   "metadata": {},
   "outputs": [
    {
     "name": "stdout",
     "output_type": "stream",
     "text": [
      "Бустраповские доверительные интервалы для тета:\n",
      "Параметрический: (3.338728142810335, 4.462978501215138)\n",
      "Непараметрический: (3.313825606581283, 4.436923037992242)\n"
     ]
    }
   ],
   "source": [
    "theta_l = lambda x: n / np.sum(np.log(x)) + 1 - theta_est\n",
    "\n",
    "np_bs_theta_ci = stats.bootstrap(\n",
    "    (xn, ), \n",
    "    theta_l,\n",
    "    n_resamples=1000,\n",
    "    confidence_level=0.95\n",
    ").confidence_interval\n",
    "np_bs_theta_ci = (\n",
    "    float(np_bs_theta_ci.low + theta_est),\n",
    "    float(np_bs_theta_ci.high + theta_est),\n",
    ")\n",
    "\n",
    "p_bs_data = np.ndarray((50000))\n",
    "for i in range(50000):\n",
    "    resample = np.pow(1-np.random.rand(len(xn)), 1/(1-theta_est))\n",
    "    p_bs_data[i] = theta_l(resample)\n",
    "p_bs_data.sort()\n",
    "\n",
    "p_bs_theta_ci = (\n",
    "    float(p_bs_data[int((1-0.95) / 2 * 50000)] + theta_est),\n",
    "    float(p_bs_data[int((1+0.95) / 2 * 50000)] + theta_est),\n",
    ")\n",
    "\n",
    "print(\"Бустраповские доверительные интервалы для тета:\")\n",
    "print(f\"Параметрический: {p_bs_theta_ci}\")\n",
    "print(f\"Непараметрический: {np_bs_theta_ci}\")"
   ]
  },
  {
   "cell_type": "code",
   "execution_count": 540,
   "metadata": {},
   "outputs": [
    {
     "name": "stdout",
     "output_type": "stream",
     "text": [
      "Бустраповские доверительные интервалы для медианы:\n",
      "Параметрический: (1.2222728001982288, 1.3454465598466183)\n",
      "Непараметрический: (1.2253042623030683, 1.3562420438750433)\n"
     ]
    }
   ],
   "source": [
    "med_l = lambda x: np.power(2, 1 / (n / np.sum(np.log(x)))) - med_est\n",
    "\n",
    "np_bs_med_ci = stats.bootstrap(\n",
    "    (xn, ), \n",
    "    med_l,\n",
    "    n_resamples=1000,\n",
    "    confidence_level=0.95\n",
    ").confidence_interval\n",
    "np_bs_med_ci = (\n",
    "    float(np_bs_med_ci.low + med_est),\n",
    "    float(np_bs_med_ci.high + med_est),\n",
    ")\n",
    "\n",
    "p_bs_data = np.ndarray((50000))\n",
    "for i in range(50000):\n",
    "    resample = np.pow(1-np.random.rand(len(xn)), 1/(1-theta_est))\n",
    "    p_bs_data[i] = med_l(resample)\n",
    "p_bs_data.sort()\n",
    "\n",
    "p_bs_med_ci = (\n",
    "    float(p_bs_data[int((1-0.95) / 2 * 50000)] + med_est),\n",
    "    float(p_bs_data[int((1+0.95) / 2 * 50000)] + med_est),\n",
    ")\n",
    "\n",
    "print(\"Бустраповские доверительные интервалы для медианы:\")\n",
    "print(f\"Параметрический: {p_bs_med_ci}\")\n",
    "print(f\"Непараметрический: {np_bs_med_ci}\")"
   ]
  },
  {
   "cell_type": "markdown",
   "metadata": {},
   "source": [
    "## f)"
   ]
  },
  {
   "cell_type": "code",
   "execution_count": 541,
   "metadata": {},
   "outputs": [
    {
     "data": {
      "image/png": "[encoded data removed]",
      "text/plain": [
       "<Figure size 800x800 with 2 Axes>"
      ]
     },
     "metadata": {},
     "output_type": "display_data"
    }
   ],
   "source": [
    "fig, axs = plt.subplots(2, 1, figsize=(8, 8))\n",
    "(ax1, ax2) = axs\n",
    "\n",
    "for i, ci in enumerate([ci_theta, p_bs_theta_ci, np_bs_theta_ci]):\n",
    "    ax1.plot((ci[0], ci[1]), (i, i), 'o-')\n",
    "_ = ax1.set_yticks(range(3),[\"Асимптотический\", \"Параметрический бс.\", \"Непараметрический бс.\"])\n",
    "\n",
    "for i, ci in enumerate([ci_med, p_bs_med_ci, np_bs_med_ci]):\n",
    "    ax2.plot((ci[0], ci[1]), (i, i), 'o-')\n",
    "_ = ax2.set_yticks(range(3),[\"Асимптотический\", \"Параметрический бс.\", \"Непараметрический бс.\"])\n"
   ]
  }
 ],
 "metadata": {
  "kernelspec": {
   "display_name": "Python 3",
   "language": "python",
   "name": "python3"
  },
  "language_info": {
   "codemirror_mode": {
    "name": "ipython",
    "version": 3
   },
   "file_extension": ".py",
   "mimetype": "text/x-python",
   "name": "python",
   "nbconvert_exporter": "python",
   "pygments_lexer": "ipython3",
   "version": "3.13.2"
  }
 },
 "nbformat": 4,
 "nbformat_minor": 2
}
