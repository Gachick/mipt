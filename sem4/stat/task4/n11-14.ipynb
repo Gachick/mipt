{
 "cells": [
  {
   "cell_type": "code",
   "execution_count": 34,
   "id": "3c30fac6",
   "metadata": {},
   "outputs": [],
   "source": [
    "import numpy as np\n",
    "import pandas as pd\n",
    "import matplotlib.pyplot as plt\n",
    "from scipy import stats\n",
    "from IPython.display import display, Math"
   ]
  },
  {
   "cell_type": "markdown",
   "id": "7876a8b3",
   "metadata": {},
   "source": [
    "# 11)\n",
    "## d)"
   ]
  },
  {
   "cell_type": "markdown",
   "id": "7f1b6b0a",
   "metadata": {},
   "source": [
    "$$ H_0: \\: \\xi \\sim p_0(x)=R(0,1) \\qquad H_1: \\: \\xi \\sim p_1(x)=\\frac{e^{1-x}}{e-1}\\{(0,1)\\} $$\n",
    "$$ F_0(x) = x \\qquad F_1(x) = \\int_0^x \\frac{e}{e-1}e^{-t}dt=\\frac{e}{e-1}(1-e^{-x}) $$\n",
    "$$ G: \\: x_{min}<C \\qquad \\xi_{min} \\sim (1-F(x))^n $$\n",
    "$$ P(x_{min} \\le C | H_0)=(1-F_0(C))^n=\\alpha \\qquad C=1-\\sqrt[n]{\\alpha} $$\n",
    "$$ W=P(\\vec{x}_n \\in G | H_1)=(1-F_1(C))^n=\\left(1-\\frac{e}{e-1}(1-e^{\\sqrt[n]{\\alpha}-1})\\right)^n $$\n",
    "$$ \\alpha_2 = 1-W $$\n",
    "Состоятельность: $W\\to 1$ при $n \\to \\infty$?\n",
    "$$ e^{e^{\\frac{1}{n}\\ln \\alpha}}=e^{1+\\frac{1}{n}\\ln \\alpha + o(\\frac{1}{n})} $$\n",
    "$$ \\left(1 - \\frac{e}{e-1}(1-e^{\\frac{1}{n}\\ln \\alpha + o(\\frac{1}{n})})\\right)^n=\\left(1-\\frac{e}{e-1}(1-\\frac{1}{n}\\ln \\alpha + o(\\frac{1}{n}))\\right)^n= $$\n",
    "$$ =\\left(\\frac{-1}{e-1}+\\frac{e}{e-1}\\frac{1}{n}\\ln \\alpha + o(\\frac{1}{n})\\right) $$ \n",
    "$$ \\exists N_0: \\: \\forall n \\ge N_0 \\rightarrow \\left| \\frac{-1}{e-1}+\\frac{e}{e-1}\\frac{1}{n}\\ln \\alpha + o(\\frac{1}{n}) \\right| \\le\n",
    " |\\frac{1}{e-1}| + \\frac{1}{n}(|\\frac{e}{e-1}\\ln \\alpha| + |o(1)|) < 1 $$\n",
    "$$ \\implies \\forall \\varepsilon > 0 \\ \\exists N:\\: \\forall n \\ge N \\rightarrow W < \\varepsilon $$\n",
    "Несостоятельный критерий."
   ]
  },
  {
   "cell_type": "markdown",
   "id": "85e90fa1",
   "metadata": {},
   "source": [
    "# 12)"
   ]
  },
  {
   "cell_type": "code",
   "execution_count": 35,
   "id": "34e33aa1",
   "metadata": {},
   "outputs": [
    {
     "data": {
      "text/latex": [
       "$\\displaystyle H_0:$"
      ],
      "text/plain": [
       "<IPython.core.display.Math object>"
      ]
     },
     "metadata": {},
     "output_type": "display_data"
    },
    {
     "data": {
      "text/html": [
       "<div>\n",
       "<style scoped>\n",
       "    .dataframe tbody tr th:only-of-type {\n",
       "        vertical-align: middle;\n",
       "    }\n",
       "\n",
       "    .dataframe tbody tr th {\n",
       "        vertical-align: top;\n",
       "    }\n",
       "\n",
       "    .dataframe thead th {\n",
       "        text-align: right;\n",
       "    }\n",
       "</style>\n",
       "<table border=\"1\" class=\"dataframe\">\n",
       "  <thead>\n",
       "    <tr style=\"text-align: right;\">\n",
       "      <th></th>\n",
       "      <th>1</th>\n",
       "      <th>2</th>\n",
       "      <th>3</th>\n",
       "      <th>4</th>\n",
       "    </tr>\n",
       "  </thead>\n",
       "  <tbody>\n",
       "    <tr>\n",
       "      <th>1</th>\n",
       "      <td>0.062500</td>\n",
       "      <td>0.062500</td>\n",
       "      <td>0.041667</td>\n",
       "      <td>0.083333</td>\n",
       "    </tr>\n",
       "    <tr>\n",
       "      <th>2</th>\n",
       "      <td>0.062500</td>\n",
       "      <td>0.062500</td>\n",
       "      <td>0.041667</td>\n",
       "      <td>0.083333</td>\n",
       "    </tr>\n",
       "    <tr>\n",
       "      <th>3</th>\n",
       "      <td>0.041667</td>\n",
       "      <td>0.041667</td>\n",
       "      <td>0.027778</td>\n",
       "      <td>0.055556</td>\n",
       "    </tr>\n",
       "    <tr>\n",
       "      <th>4</th>\n",
       "      <td>0.083333</td>\n",
       "      <td>0.083333</td>\n",
       "      <td>0.055556</td>\n",
       "      <td>0.111111</td>\n",
       "    </tr>\n",
       "  </tbody>\n",
       "</table>\n",
       "</div>"
      ],
      "text/plain": [
       "          1         2         3         4\n",
       "1  0.062500  0.062500  0.041667  0.083333\n",
       "2  0.062500  0.062500  0.041667  0.083333\n",
       "3  0.041667  0.041667  0.027778  0.055556\n",
       "4  0.083333  0.083333  0.055556  0.111111"
      ]
     },
     "metadata": {},
     "output_type": "display_data"
    },
    {
     "data": {
      "text/latex": [
       "$\\displaystyle H_1:$"
      ],
      "text/plain": [
       "<IPython.core.display.Math object>"
      ]
     },
     "metadata": {},
     "output_type": "display_data"
    },
    {
     "data": {
      "text/html": [
       "<div>\n",
       "<style scoped>\n",
       "    .dataframe tbody tr th:only-of-type {\n",
       "        vertical-align: middle;\n",
       "    }\n",
       "\n",
       "    .dataframe tbody tr th {\n",
       "        vertical-align: top;\n",
       "    }\n",
       "\n",
       "    .dataframe thead th {\n",
       "        text-align: right;\n",
       "    }\n",
       "</style>\n",
       "<table border=\"1\" class=\"dataframe\">\n",
       "  <thead>\n",
       "    <tr style=\"text-align: right;\">\n",
       "      <th></th>\n",
       "      <th>1</th>\n",
       "      <th>2</th>\n",
       "      <th>3</th>\n",
       "      <th>4</th>\n",
       "    </tr>\n",
       "  </thead>\n",
       "  <tbody>\n",
       "    <tr>\n",
       "      <th>1</th>\n",
       "      <td>0.0625</td>\n",
       "      <td>0.0625</td>\n",
       "      <td>0.0625</td>\n",
       "      <td>0.0625</td>\n",
       "    </tr>\n",
       "    <tr>\n",
       "      <th>2</th>\n",
       "      <td>0.0625</td>\n",
       "      <td>0.0625</td>\n",
       "      <td>0.0625</td>\n",
       "      <td>0.0625</td>\n",
       "    </tr>\n",
       "    <tr>\n",
       "      <th>3</th>\n",
       "      <td>0.0625</td>\n",
       "      <td>0.0625</td>\n",
       "      <td>0.0625</td>\n",
       "      <td>0.0625</td>\n",
       "    </tr>\n",
       "    <tr>\n",
       "      <th>4</th>\n",
       "      <td>0.0625</td>\n",
       "      <td>0.0625</td>\n",
       "      <td>0.0625</td>\n",
       "      <td>0.0625</td>\n",
       "    </tr>\n",
       "  </tbody>\n",
       "</table>\n",
       "</div>"
      ],
      "text/plain": [
       "        1       2       3       4\n",
       "1  0.0625  0.0625  0.0625  0.0625\n",
       "2  0.0625  0.0625  0.0625  0.0625\n",
       "3  0.0625  0.0625  0.0625  0.0625\n",
       "4  0.0625  0.0625  0.0625  0.0625"
      ]
     },
     "metadata": {},
     "output_type": "display_data"
    },
    {
     "data": {
      "text/latex": [
       "$\\displaystyle l:$"
      ],
      "text/plain": [
       "<IPython.core.display.Math object>"
      ]
     },
     "metadata": {},
     "output_type": "display_data"
    },
    {
     "data": {
      "text/html": [
       "<div>\n",
       "<style scoped>\n",
       "    .dataframe tbody tr th:only-of-type {\n",
       "        vertical-align: middle;\n",
       "    }\n",
       "\n",
       "    .dataframe tbody tr th {\n",
       "        vertical-align: top;\n",
       "    }\n",
       "\n",
       "    .dataframe thead th {\n",
       "        text-align: right;\n",
       "    }\n",
       "</style>\n",
       "<table border=\"1\" class=\"dataframe\">\n",
       "  <thead>\n",
       "    <tr style=\"text-align: right;\">\n",
       "      <th></th>\n",
       "      <th>1</th>\n",
       "      <th>2</th>\n",
       "      <th>3</th>\n",
       "      <th>4</th>\n",
       "    </tr>\n",
       "  </thead>\n",
       "  <tbody>\n",
       "    <tr>\n",
       "      <th>1</th>\n",
       "      <td>1.00</td>\n",
       "      <td>1.00</td>\n",
       "      <td>1.500</td>\n",
       "      <td>0.7500</td>\n",
       "    </tr>\n",
       "    <tr>\n",
       "      <th>2</th>\n",
       "      <td>1.00</td>\n",
       "      <td>1.00</td>\n",
       "      <td>1.500</td>\n",
       "      <td>0.7500</td>\n",
       "    </tr>\n",
       "    <tr>\n",
       "      <th>3</th>\n",
       "      <td>1.50</td>\n",
       "      <td>1.50</td>\n",
       "      <td>2.250</td>\n",
       "      <td>1.1250</td>\n",
       "    </tr>\n",
       "    <tr>\n",
       "      <th>4</th>\n",
       "      <td>0.75</td>\n",
       "      <td>0.75</td>\n",
       "      <td>1.125</td>\n",
       "      <td>0.5625</td>\n",
       "    </tr>\n",
       "  </tbody>\n",
       "</table>\n",
       "</div>"
      ],
      "text/plain": [
       "      1     2      3       4\n",
       "1  1.00  1.00  1.500  0.7500\n",
       "2  1.00  1.00  1.500  0.7500\n",
       "3  1.50  1.50  2.250  1.1250\n",
       "4  0.75  0.75  1.125  0.5625"
      ]
     },
     "metadata": {},
     "output_type": "display_data"
    }
   ],
   "source": [
    "alpha= .2\n",
    "\n",
    "vals = [1, 2, 3, 4]\n",
    "\n",
    "rho0 = np.array([1/4, 1/4, 1/6, 1/3])\n",
    "rho1 = np.array([1/4, 1/4, 1/4, 1/4])\n",
    "\n",
    "h0 = np.outer(rho0, rho0)\n",
    "h1 = np.outer(rho1, rho1)\n",
    "\n",
    "l = h1 / h0\n",
    "\n",
    "h0pd = pd.DataFrame(h0, index=vals, columns=vals)\n",
    "h1pd = pd.DataFrame(h1, index=vals, columns=vals)\n",
    "lpd = pd.DataFrame(l, index=vals, columns=vals)\n",
    "\n",
    "display(Math(r'H_0:'), h0pd)\n",
    "display(Math(r'H_1:'), h1pd)\n",
    "display(Math(r'l:'), lpd)\n"
   ]
  },
  {
   "cell_type": "markdown",
   "id": "47f1e7b2",
   "metadata": {},
   "source": [
    "$$G: l \\ge C \\qquad P(l\\ge C | H_0)\\le 0.2$$\n",
    "$$G: (3,3), (2,3), (3,2), (1,3), (3,1)$$"
   ]
  },
  {
   "cell_type": "code",
   "execution_count": 36,
   "id": "75e0370c",
   "metadata": {},
   "outputs": [
    {
     "data": {
      "text/latex": [
       "$\\displaystyle C=\\frac{33}{4}$"
      ],
      "text/plain": [
       "<IPython.core.display.Math object>"
      ]
     },
     "metadata": {},
     "output_type": "display_data"
    },
    {
     "data": {
      "text/latex": [
       "$\\displaystyle \\alpha_1=\\frac{7}{36}$"
      ],
      "text/plain": [
       "<IPython.core.display.Math object>"
      ]
     },
     "metadata": {},
     "output_type": "display_data"
    },
    {
     "data": {
      "text/latex": [
       "$\\displaystyle W=\\frac{5}{16}$"
      ],
      "text/plain": [
       "<IPython.core.display.Math object>"
      ]
     },
     "metadata": {},
     "output_type": "display_data"
    },
    {
     "data": {
      "text/latex": [
       "$\\displaystyle \\alpha_2=\\frac{11}{16}$"
      ],
      "text/plain": [
       "<IPython.core.display.Math object>"
      ]
     },
     "metadata": {},
     "output_type": "display_data"
    }
   ],
   "source": [
    "from fractions import Fraction\n",
    "\n",
    "G = np.array([[2,2], [1,2], [2, 1], [0,2], [2,0]]).T.reshape(2, 5)\n",
    "\n",
    "C = Fraction(np.sum(l[G[0], G[1]]))\n",
    "alpha1 = Fraction(np.sum(h0[G[0], G[1]])).limit_denominator()\n",
    "W = Fraction(np.sum(h1[G[0], G[1]]))\n",
    "alpha2 = 1-W\n",
    "\n",
    "display(Math(r'C=\\frac{{{num}}}{{{den}}}'.format(num = C.numerator, den = C.denominator)))\n",
    "display(Math(r'\\alpha_1=\\frac{{{num}}}{{{den}}}'.format(num = alpha1.numerator, den = alpha1.denominator)))\n",
    "display(Math(r'W=\\frac{{{num}}}{{{den}}}'.format(num = W.numerator, den = W.denominator)))\n",
    "display(Math(r'\\alpha_2=\\frac{{{num}}}{{{den}}}'.format(num = alpha2.numerator, den = alpha2.denominator)))\n",
    "\n"
   ]
  },
  {
   "cell_type": "markdown",
   "id": "0e1ff32b",
   "metadata": {},
   "source": [
    "# 13)"
   ]
  },
  {
   "cell_type": "markdown",
   "id": "35b3d0a4",
   "metadata": {},
   "source": [
    "$$n = 139 \\qquad m=1000$$\n",
    "$$ \\xi_1 \\sim N(a, \\varphi_1^2) \\qquad \\eta_1 \\sim N(b, \\psi_1^2) $$\n",
    "$$ \\xi_2 \\sim N(c, \\varphi_2^2) \\qquad \\eta_2 \\sim N(d, \\psi_2^2) $$\n",
    "$$ S_{1n}=5.722 \\qquad S_{1m}=6.161$$\n",
    "$$ S_{2n}=4.612 \\qquad S_{2m}=5.055$$\n",
    "$$ H_0: \\: \\varphi_1^2=\\psi_1^2 \\quad \\varphi_2^2=\\psi_2^2$$\n",
    "$$ H_1: \\: \\varphi_1^2\\neq \\psi_1^2 \\quad \\varphi_2^2\\neq \\psi_2^2$$\n",
    "Если $H_0$ верна, то\n",
    "$$\\Delta = \\frac{S_x^{2}}{S_y^{2}} \\sim F(n-1, m-1)$$\n",
    "$$ P(|\\Delta| \\ge C) = \\alpha \\qquad \\alpha = 0.05$$\n",
    "$$ C_1 = F_{\\frac{\\alpha}{2}}(138, 999)$$\n",
    "$$ C_2 = F_{1- \\frac{\\alpha}{2}}(138, 999)$$"
   ]
  },
  {
   "cell_type": "code",
   "execution_count": 37,
   "id": "880aebc0",
   "metadata": {},
   "outputs": [
    {
     "data": {
      "text/latex": [
       "$\\displaystyle C_1 = 0.767$"
      ],
      "text/plain": [
       "<IPython.core.display.Math object>"
      ]
     },
     "metadata": {},
     "output_type": "display_data"
    },
    {
     "data": {
      "text/latex": [
       "$\\displaystyle C_2 = 1.272$"
      ],
      "text/plain": [
       "<IPython.core.display.Math object>"
      ]
     },
     "metadata": {},
     "output_type": "display_data"
    }
   ],
   "source": [
    "c1 = float(stats.f.ppf(0.025, 138, 999))\n",
    "c2 = float(stats.f.ppf(0.975, 138, 999))\n",
    "display(Math(rf\"C_1 = {c1:.3}\"))\n",
    "display(Math(rf\"C_2 = {c2:.4}\"))"
   ]
  },
  {
   "cell_type": "markdown",
   "id": "18c1b35c",
   "metadata": {},
   "source": [
    "\n",
    "$$ \\frac{S_{1n}^2}{S_{1m}^2}=0.86 \\qquad \\frac{S_{2n}^2}{S_{2m}^2}=0.83$$\n",
    "$\\Rightarrow$ нет оснований отвергнуть $H_0$"
   ]
  },
  {
   "cell_type": "markdown",
   "id": "fab6867c",
   "metadata": {},
   "source": [
    "$$ W(\\phi^2, \\psi^2)= 1 - P(C_1 < \\frac{\\psi^2}{\\phi^2} < C_2) $$"
   ]
  },
  {
   "cell_type": "code",
   "execution_count": 42,
   "id": "fa74130e",
   "metadata": {},
   "outputs": [
    {
     "data": {
      "image/png": "[encoded data removed]",
      "text/plain": [
       "<Figure size 640x480 with 1 Axes>"
      ]
     },
     "metadata": {},
     "output_type": "display_data"
    }
   ],
   "source": [
    "\n",
    "x = np.linspace(-1, 3, 1000)\n",
    "\n",
    "fig, ax = plt.subplots(1, 1)\n",
    "ax.plot(x, stats.f.sf(c2 * x, 138, 999) + stats.f.cdf(c1 * x, 138, 999))\n",
    "ax.set_ylabel(\"Мощность критерия\")\n",
    "ax.set_xlabel(\"Отношение дисперсий\")\n",
    "ax.grid()"
   ]
  },
  {
   "cell_type": "markdown",
   "id": "e1511142",
   "metadata": {},
   "source": [
    "# 14)"
   ]
  },
  {
   "cell_type": "markdown",
   "id": "2363c9a5",
   "metadata": {},
   "source": [
    "$$ \\xi \\sim N(a, \\sigma_x^2) \\qquad \\eta \\sim N(b, \\sigma_y^2) $$ \n",
    "$$ \\sigma_x^2=2 \\qquad \\sigma_y^2 = 1 $$\n",
    "$$ x = \\{-1.11, -6.10, 2.42\\} \\qquad y=\\{-2.29, -2.91\\} $$\n",
    "$$ H_0: \\: a=b \\qquad H_1: \\: a > b $$\n",
    "$$ \\alpha = 0.05 $$\n",
    "Если $H_0$ верна, то\n",
    "$$ \\Delta = \\frac{\\bar x - \\bar y}{\\sqrt{\\frac{\\sigma_x^2}{n}+\\frac{\\sigma_y^2}{m}}} \\sim N(0,1) $$"
   ]
  },
  {
   "cell_type": "markdown",
   "id": "12911b6e",
   "metadata": {},
   "source": [
    "$$ G: \\: \\Delta \\ge C \\qquad P(\\Delta \\ge C | H_0) = \\alpha $$\n",
    "$$ C = U_{1-\\alpha} $$"
   ]
  },
  {
   "cell_type": "code",
   "execution_count": 39,
   "id": "f01b3149",
   "metadata": {},
   "outputs": [
    {
     "data": {
      "text/latex": [
       "$\\displaystyle C = 1.645$"
      ],
      "text/plain": [
       "<IPython.core.display.Math object>"
      ]
     },
     "metadata": {},
     "output_type": "display_data"
    }
   ],
   "source": [
    "C = float(stats.norm.ppf(0.95))\n",
    "display(Math(rf\"C = {C:.4}\"))"
   ]
  },
  {
   "cell_type": "code",
   "execution_count": 40,
   "id": "ada70968",
   "metadata": {},
   "outputs": [
    {
     "data": {
      "text/latex": [
       "$\\displaystyle \\tilde \\Delta = 0.9289$"
      ],
      "text/plain": [
       "<IPython.core.display.Math object>"
      ]
     },
     "metadata": {},
     "output_type": "display_data"
    }
   ],
   "source": [
    "delta = np.mean([-1.11, -6.10, 2.42]) - np.mean([-2.29, -2.91])\n",
    "delta /= np.sqrt(2/3 + 1/2)\n",
    "display(Math(rf\"\\tilde \\Delta = {delta:.4}\"))"
   ]
  },
  {
   "cell_type": "markdown",
   "id": "9dcd45da",
   "metadata": {},
   "source": [
    "$$ \\tilde \\Delta < C $$\n",
    "$\\Rightarrow$ нет оснований отвергать $H_0$"
   ]
  },
  {
   "cell_type": "markdown",
   "id": "d5886feb",
   "metadata": {},
   "source": [
    "$$ W(a, b) = 1 - P\\left(\\frac{a-b}{\\sqrt{\\cfrac{\\sigma_x^2}{n}+\\cfrac{\\sigma_y^2}{m}}} > C\\right) $$"
   ]
  },
  {
   "cell_type": "code",
   "execution_count": 41,
   "id": "35d302a6",
   "metadata": {},
   "outputs": [
    {
     "data": {
      "image/png": "[encoded data removed]",
      "text/plain": [
       "<Figure size 640x480 with 1 Axes>"
      ]
     },
     "metadata": {},
     "output_type": "display_data"
    }
   ],
   "source": [
    "x = np.linspace(0, 5, 100)\n",
    "\n",
    "fig, ax = plt.subplots(1, 1)\n",
    "ax.plot(x, stats.norm.sf(C - x / np.sqrt(2/3 + 1/2)))\n",
    "ax.set_ylabel(\"Мощность критерия\")\n",
    "ax.set_xlabel(\"a - b\")\n",
    "ax.grid()"
   ]
  }
 ],
 "metadata": {
  "kernelspec": {
   "display_name": "Python 3",
   "language": "python",
   "name": "python3"
  },
  "language_info": {
   "codemirror_mode": {
    "name": "ipython",
    "version": 3
   },
   "file_extension": ".py",
   "mimetype": "text/x-python",
   "name": "python",
   "nbconvert_exporter": "python",
   "pygments_lexer": "ipython3",
   "version": "3.13.2"
  }
 },
 "nbformat": 4,
 "nbformat_minor": 5
}
