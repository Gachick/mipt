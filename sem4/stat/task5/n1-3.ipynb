{
 "cells": [
  {
   "cell_type": "code",
   "execution_count": 184,
   "id": "a565e433",
   "metadata": {},
   "outputs": [],
   "source": [
    "import numpy as np\n",
    "import matplotlib.pyplot as plt\n",
    "from sklearn.linear_model import Lasso, Ridge\n",
    "from sklearn.utils import resample\n",
    "from IPython.display import display, Math, Latex\n",
    "import scipy.stats as stats"
   ]
  },
  {
   "cell_type": "markdown",
   "id": "470f7fa3",
   "metadata": {},
   "source": [
    "# 1)"
   ]
  },
  {
   "cell_type": "code",
   "execution_count": 185,
   "id": "7559571c",
   "metadata": {},
   "outputs": [],
   "source": [
    "n = 50\n",
    "p = 6\n",
    "alpha = 0.05\n",
    "\n",
    "Psi = np.concat([np.ones((n, 1)), np.random.uniform(-1, 1, (n, 5))], axis=1)\n",
    "Y = np.array([np.random.normal(np.array([2, 3, -2, 1, 1, -1]) @ xi, 1.5) for xi in Psi])"
   ]
  },
  {
   "cell_type": "markdown",
   "id": "54346b6e",
   "metadata": {},
   "source": [
    "## a)"
   ]
  },
  {
   "cell_type": "code",
   "execution_count": 186,
   "id": "49e502d1",
   "metadata": {},
   "outputs": [
    {
     "data": {
      "text/latex": [
       "$\\displaystyle R^2_1=0.22395400527633608$"
      ],
      "text/plain": [
       "<IPython.core.display.Math object>"
      ]
     },
     "metadata": {},
     "output_type": "display_data"
    },
    {
     "data": {
      "text/latex": [
       "$\\displaystyle R^2_2=0.024020728190388075$"
      ],
      "text/plain": [
       "<IPython.core.display.Math object>"
      ]
     },
     "metadata": {},
     "output_type": "display_data"
    },
    {
     "data": {
      "text/latex": [
       "$\\displaystyle R^2_3=0.021894254631525396$"
      ],
      "text/plain": [
       "<IPython.core.display.Math object>"
      ]
     },
     "metadata": {},
     "output_type": "display_data"
    },
    {
     "data": {
      "text/latex": [
       "$\\displaystyle R^2_4=0.22924387236927135$"
      ],
      "text/plain": [
       "<IPython.core.display.Math object>"
      ]
     },
     "metadata": {},
     "output_type": "display_data"
    },
    {
     "data": {
      "text/latex": [
       "$\\displaystyle R^2_5=0.02901553121278532$"
      ],
      "text/plain": [
       "<IPython.core.display.Math object>"
      ]
     },
     "metadata": {},
     "output_type": "display_data"
    }
   ],
   "source": [
    "def r_sq(psi, y):\n",
    "    F = psi.T @ psi\n",
    "    F_inv = np.linalg.inv(F)\n",
    "    beta = F_inv @ psi.T @ y\n",
    "    RSS = np.sum((y - psi @ beta) ** 2)\n",
    "    TSS = np.sum((y - np.mean(y)) ** 2)\n",
    "    return (TSS - RSS) / TSS\n",
    "    \n",
    "for i in range(5):\n",
    "    mask = np.zeros(6, dtype=bool)\n",
    "    mask[i + 1] = 1\n",
    "    R_sq = r_sq(Psi[:, ~mask], Psi[:, mask])\n",
    "    display(Math(r\"R^2_{i}={R_sq}\".format(i=i+1, R_sq=R_sq)))"
   ]
  },
  {
   "cell_type": "markdown",
   "id": "f4bb9f10",
   "metadata": {},
   "source": [
    "все $R^2 < 0.7 \\ \\Rightarrow$ мультиколлинеарности нет"
   ]
  },
  {
   "cell_type": "markdown",
   "id": "c02d3251",
   "metadata": {},
   "source": [
    "## b)"
   ]
  },
  {
   "cell_type": "code",
   "execution_count": null,
   "id": "46bf3a8c",
   "metadata": {},
   "outputs": [
    {
     "data": {
      "text/latex": [
       "$\\beta_1$: p-value $=1.253747162702197e-10$, значим"
      ],
      "text/plain": [
       "<IPython.core.display.Latex object>"
      ]
     },
     "metadata": {},
     "output_type": "display_data"
    },
    {
     "data": {
      "text/latex": [
       "$\\beta_2$: p-value $=5.920496361946449e-11$, значим"
      ],
      "text/plain": [
       "<IPython.core.display.Latex object>"
      ]
     },
     "metadata": {},
     "output_type": "display_data"
    },
    {
     "data": {
      "text/latex": [
       "$\\beta_3$: p-value $=1.5350076787784096e-07$, значим"
      ],
      "text/plain": [
       "<IPython.core.display.Latex object>"
      ]
     },
     "metadata": {},
     "output_type": "display_data"
    },
    {
     "data": {
      "text/latex": [
       "$\\beta_4$: p-value $=0.006330863778199564$, значим"
      ],
      "text/plain": [
       "<IPython.core.display.Latex object>"
      ]
     },
     "metadata": {},
     "output_type": "display_data"
    },
    {
     "data": {
      "text/latex": [
       "$\\beta_5$: p-value $=0.01021254600891082$, значим"
      ],
      "text/plain": [
       "<IPython.core.display.Latex object>"
      ]
     },
     "metadata": {},
     "output_type": "display_data"
    },
    {
     "data": {
      "text/latex": [
       "$\\beta_6$: p-value $=0.0009034865640483887$, значим"
      ],
      "text/plain": [
       "<IPython.core.display.Latex object>"
      ]
     },
     "metadata": {},
     "output_type": "display_data"
    }
   ],
   "source": [
    "F = Psi.T @ Psi\n",
    "F_inv = np.linalg.inv(F)\n",
    "beta = F_inv @ Psi.T @ Y\n",
    "RSS = np.sum((Y - Psi @ beta) ** 2)\n",
    "\n",
    "beta_p_val = []\n",
    "\n",
    "for i in range(p):\n",
    "    delta = beta[i] / np.sqrt(RSS * F_inv[i, i]) * np.sqrt(n - p)\n",
    "    p_val = 2 * stats.t.sf(abs(delta), n - p)\n",
    "    beta_p_val.append(p_val)\n",
    "    matter = \"значим\" if p_val < alpha else \"не значим\"\n",
    "    display(Latex(r\"$\\beta_{i}$: p-value $={p_val}$, \".format(i=i+1,p_val=p_val)+matter))"
   ]
  },
  {
   "cell_type": "markdown",
   "id": "185a1998",
   "metadata": {},
   "source": [
    "## c)"
   ]
  },
  {
   "cell_type": "code",
   "execution_count": 188,
   "id": "fb4279ce",
   "metadata": {},
   "outputs": [
    {
     "data": {
      "text/latex": [
       "$\\displaystyle R^2=0.8035745424765987$"
      ],
      "text/plain": [
       "<IPython.core.display.Math object>"
      ]
     },
     "metadata": {},
     "output_type": "display_data"
    },
    {
     "data": {
      "text/latex": [
       "p-value $=1.7407205954343747e-14$, значим"
      ],
      "text/plain": [
       "<IPython.core.display.Latex object>"
      ]
     },
     "metadata": {},
     "output_type": "display_data"
    }
   ],
   "source": [
    "RSS = np.sum((Y - Psi @ beta) ** 2)\n",
    "TSS = np.sum((Y - np.mean(Y)) ** 2)\n",
    "\n",
    "R_sq = (TSS - RSS) / TSS \n",
    "display(Math(r\"R^2={R_sq}\".format(R_sq = R_sq)))\n",
    "\n",
    "delta = ((TSS - RSS) * (n - p)) / (RSS * (p - 1))\n",
    "p_val = stats.f.cdf(-abs(delta), p - 1, n - p) + stats.f.sf(abs(delta), p - 1, n - p)\n",
    "matter = \"значим\" if p_val < alpha else \"не значим\"\n",
    "display(Latex(r\"p-value $={p_val}$, \".format(p_val = p_val) + matter))\n"
   ]
  },
  {
   "cell_type": "markdown",
   "id": "27224912",
   "metadata": {},
   "source": [
    "## d)"
   ]
  },
  {
   "cell_type": "code",
   "execution_count": 189,
   "id": "e686e492",
   "metadata": {},
   "outputs": [
    {
     "data": {
      "text/latex": [
       "$\\displaystyle y=1.7597$"
      ],
      "text/plain": [
       "<IPython.core.display.Math object>"
      ]
     },
     "metadata": {},
     "output_type": "display_data"
    },
    {
     "data": {
      "text/latex": [
       "$\\displaystyle I=(-1.0470,4.5664)$"
      ],
      "text/plain": [
       "<IPython.core.display.Math object>"
      ]
     },
     "metadata": {},
     "output_type": "display_data"
    }
   ],
   "source": [
    "x0 = np.array([1, 0, 0, 0, 0, 0])\n",
    "y_est = x0 @ beta\n",
    "delta = stats.t.isf(0.025, n - p) * np.sqrt((1 + x0 @ F_inv @ x0.T) * (RSS / (n - p)))\n",
    "display(Math(r\"y={y:.4f}\".format(y=y_est)))\n",
    "display(Math(r\"I=({l:.4f},{r:.4f})\".format(l=y_est - delta, r=y_est + delta)))"
   ]
  },
  {
   "cell_type": "markdown",
   "id": "fcdecae8",
   "metadata": {},
   "source": [
    "## e)"
   ]
  },
  {
   "cell_type": "code",
   "execution_count": 190,
   "id": "8e301483",
   "metadata": {},
   "outputs": [
    {
     "data": {
      "text/latex": [
       "p-value $=0.8719$, ошибки независимы"
      ],
      "text/plain": [
       "<IPython.core.display.Latex object>"
      ]
     },
     "metadata": {},
     "output_type": "display_data"
    }
   ],
   "source": [
    "def inversions(arr):\n",
    "    inv = 0\n",
    "    for i in range(len(arr)):\n",
    "        for j in range(i + 1, len(arr)):\n",
    "            if arr[i] > arr[j]:\n",
    "                inv += 1\n",
    "    return inv\n",
    "\n",
    "\n",
    "e = Y - Psi @ beta\n",
    "delta = float((inversions(e) - n * (n - 1) / 4) / np.sqrt(n ** 3 / 36))\n",
    "p_val = 2 * stats.norm.sf(delta)\n",
    "matter = \"ошибки\" + \" независимы\" if p_val > alpha else \"зависимы\"\n",
    "display(Latex(f\"p-value $={p_val:.4f}$, \" + matter))"
   ]
  },
  {
   "cell_type": "markdown",
   "id": "2d3a2784",
   "metadata": {},
   "source": [
    "## f)"
   ]
  },
  {
   "cell_type": "code",
   "execution_count": 191,
   "id": "ec8851ba",
   "metadata": {},
   "outputs": [
    {
     "data": {
      "text/latex": [
       "p-value $=0.93496$"
      ],
      "text/plain": [
       "<IPython.core.display.Latex object>"
      ]
     },
     "metadata": {},
     "output_type": "display_data"
    }
   ],
   "source": [
    "bs_n = 50000\n",
    "\n",
    "e = Y - Psi @ beta\n",
    "std = np.std(e)\n",
    "\n",
    "bs_data = np.ndarray((bs_n,), dtype=np.float32)\n",
    "for i in range(bs_n):\n",
    "    sample = np.random.normal(0, std, n)\n",
    "    sample = np.sort(sample)\n",
    "    sample_std = np.std(sample)\n",
    "    \n",
    "    ecdf = np.append([0], stats.ecdf(sample).cdf.probabilities)\n",
    "    cdf = stats.norm.cdf(sample, loc=0, scale=sample_std)\n",
    "    delta = np.sqrt(n) * np.max(np.abs(\n",
    "        np.append(\n",
    "            cdf - ecdf[:len(ecdf) - 1],\n",
    "            cdf - ecdf[1:]\n",
    "        )\n",
    "    ))\n",
    "    bs_data[i] = delta\n",
    "bs_data = np.sort(bs_data)\n",
    "\n",
    "ecdf = np.append([0], stats.ecdf(e).cdf.probabilities)\n",
    "cdf = stats.norm.cdf(np.sort(e), loc=0, scale=std)\n",
    "k_delta = np.sqrt(n) * np.max(np.abs(\n",
    "    np.append(\n",
    "        cdf - ecdf[:len(ecdf) - 1],\n",
    "        cdf - ecdf[1:]\n",
    "    )\n",
    "))\n",
    "\n",
    "k_p_val = np.count_nonzero(bs_data >= k_delta) / bs_n\n",
    "\n",
    "display(Latex(f\"p-value $={k_p_val}$\"))\n"
   ]
  },
  {
   "cell_type": "markdown",
   "id": "e02c6b74",
   "metadata": {},
   "source": [
    "$\\Rightarrow$ ошибки распределены нормально"
   ]
  },
  {
   "cell_type": "markdown",
   "id": "6ad010d5",
   "metadata": {},
   "source": [
    "## g)"
   ]
  },
  {
   "cell_type": "code",
   "execution_count": 192,
   "id": "d1c37e5d",
   "metadata": {},
   "outputs": [
    {
     "data": {
      "text/plain": [
       "Text(0.5, 1.0, 'y')"
      ]
     },
     "execution_count": 192,
     "metadata": {},
     "output_type": "execute_result"
    },
    {
     "data": {
      "image/png": "[encoded data removed]",
      "text/plain": [
       "<Figure size 1200x400 with 2 Axes>"
      ]
     },
     "metadata": {},
     "output_type": "display_data"
    }
   ],
   "source": [
    "fig, ax = plt.subplots(1, 2, figsize=(12, 4))\n",
    "\n",
    "ax[0].boxplot(e, orientation=\"horizontal\")\n",
    "ax[0].set_title('e')\n",
    "\n",
    "ax[1].boxplot(Y, orientation=\"horizontal\")\n",
    "ax[1].set_title('y')"
   ]
  },
  {
   "cell_type": "markdown",
   "id": "aa60e4d9",
   "metadata": {},
   "source": [
    "## h)"
   ]
  },
  {
   "cell_type": "code",
   "execution_count": 193,
   "id": "57f8b0cd",
   "metadata": {},
   "outputs": [
    {
     "data": {
      "text/latex": [
       "$\\displaystyle R_{CV}^2=0.7472$"
      ],
      "text/plain": [
       "<IPython.core.display.Math object>"
      ]
     },
     "metadata": {},
     "output_type": "display_data"
    }
   ],
   "source": [
    "def find_beta(psi, y):\n",
    "    F = psi.T @ psi\n",
    "    F_inv = np.linalg.inv(F)\n",
    "    return F_inv, F_inv @ psi.T @ y\n",
    "\n",
    "CVSS = 0\n",
    "\n",
    "for i in range(n):\n",
    "    mask = np.ones(n, dtype=bool)\n",
    "    mask[i] = 0\n",
    "    _, beta = find_beta(Psi[mask], Y[mask])\n",
    "    CVSS += (Y[i] - beta @ Psi[i]) ** 2\n",
    "\n",
    "R_sq_cv = (TSS - CVSS) / TSS\n",
    "display(Math(r\"R_{{CV}}^2={R_sq:.4f}\".format(R_sq=R_sq_cv)))"
   ]
  },
  {
   "cell_type": "markdown",
   "id": "0aff4023",
   "metadata": {},
   "source": [
    "## i)"
   ]
  },
  {
   "cell_type": "code",
   "execution_count": 194,
   "id": "1dacf29a",
   "metadata": {},
   "outputs": [
    {
     "data": {
      "text/latex": [
       "p-value $=0.9248$, регрессия адекватна"
      ],
      "text/plain": [
       "<IPython.core.display.Latex object>"
      ]
     },
     "metadata": {},
     "output_type": "display_data"
    }
   ],
   "source": [
    "l = 5\n",
    "psi = np.concat([np.ones(1), np.random.uniform(-1, 1, 5)])\n",
    "y = np.array([np.random.normal(\n",
    "        np.array([2, 3, -2, 1, 1, -1]) @ psi, 1.5\n",
    "    ) for _ in range(l)])\n",
    "delta = float(RSS / (n - p) / np.std(y) ** 2)\n",
    "p_val = stats.f.cdf(-abs(delta), n-p, l - 1) + stats.f.sf(abs(delta), n - p, l - 1)\n",
    "matter = \"адекватна\" if p_val > alpha else \"неадеватна\"\n",
    "display(Latex(f\"p-value $={p_val:.4f}$, регрессия \" +matter))"
   ]
  },
  {
   "cell_type": "markdown",
   "id": "f6a5d2b2",
   "metadata": {},
   "source": [
    "## j)"
   ]
  },
  {
   "cell_type": "code",
   "execution_count": 195,
   "id": "b9c1bb6c",
   "metadata": {},
   "outputs": [
    {
     "name": "stdout",
     "output_type": "stream",
     "text": [
      "Выкидываем 4\n"
     ]
    }
   ],
   "source": [
    "out = np.argmin(np.abs(beta))\n",
    "print(f\"Выкидываем {out+1}\")\n",
    "mask = np.ones(p, dtype=bool)\n",
    "mask[out] = 0\n",
    "psi_s = Psi[:, mask]\n",
    "f_inv_s, beta_s = find_beta(psi_s, Y)\n",
    "rss_s = np.sum((Y - psi_s @ beta_s) ** 2)"
   ]
  },
  {
   "cell_type": "code",
   "execution_count": 196,
   "id": "f6e8259d",
   "metadata": {},
   "outputs": [
    {
     "data": {
      "text/latex": [
       "$\\beta_1$: p-value $=7.178293321159237e-10$, значим"
      ],
      "text/plain": [
       "<IPython.core.display.Latex object>"
      ]
     },
     "metadata": {},
     "output_type": "display_data"
    },
    {
     "data": {
      "text/latex": [
       "$\\beta_2$: p-value $=9.573055670242028e-10$, значим"
      ],
      "text/plain": [
       "<IPython.core.display.Latex object>"
      ]
     },
     "metadata": {},
     "output_type": "display_data"
    },
    {
     "data": {
      "text/latex": [
       "$\\beta_3$: p-value $=3.392392781018915e-07$, значим"
      ],
      "text/plain": [
       "<IPython.core.display.Latex object>"
      ]
     },
     "metadata": {},
     "output_type": "display_data"
    },
    {
     "data": {
      "text/latex": [
       "$\\beta_4$: p-value $=0.00881194647439045$, значим"
      ],
      "text/plain": [
       "<IPython.core.display.Latex object>"
      ]
     },
     "metadata": {},
     "output_type": "display_data"
    },
    {
     "data": {
      "text/latex": [
       "$\\beta_5$: p-value $=0.0020443817356820913$, значим"
      ],
      "text/plain": [
       "<IPython.core.display.Latex object>"
      ]
     },
     "metadata": {},
     "output_type": "display_data"
    }
   ],
   "source": [
    "for i in range(p-1):\n",
    "    delta = beta_s[i] / np.sqrt(rss_s * f_inv_s[i, i]) * np.sqrt(n - p + 1)\n",
    "    p_val = 2 * stats.t.sf(abs(delta), n - p + 1)\n",
    "    matter = \"значим\" if p_val < alpha else \"не значим\"\n",
    "    display(Latex(r\"$\\beta_{i}$: p-value $={p_val}$, \".format(i=i+1,p_val=p_val)+matter))"
   ]
  },
  {
   "cell_type": "code",
   "execution_count": 197,
   "id": "8833a301",
   "metadata": {},
   "outputs": [
    {
     "data": {
      "text/latex": [
       "$\\displaystyle R^2=0.7668711217686018$"
      ],
      "text/plain": [
       "<IPython.core.display.Math object>"
      ]
     },
     "metadata": {},
     "output_type": "display_data"
    },
    {
     "data": {
      "text/latex": [
       "p-value $=1.0771693577872298e-13$, значим"
      ],
      "text/plain": [
       "<IPython.core.display.Latex object>"
      ]
     },
     "metadata": {},
     "output_type": "display_data"
    }
   ],
   "source": [
    "tss_s = np.sum((Y - np.mean(Y)) ** 2)\n",
    "\n",
    "R_sq_s = (tss_s - rss_s) / tss_s \n",
    "display(Math(r\"R^2={R_sq}\".format(R_sq = R_sq_s)))\n",
    "\n",
    "delta = ((tss_s - rss_s) * (n - p + 1)) / (rss_s * (p - 2))\n",
    "p_val = stats.f.cdf(-abs(delta), p - 2, n - p + 1) + stats.f.sf(abs(delta), p - 2, n - p + 1)\n",
    "matter = \"значим\" if p_val < alpha else \"не значим\"\n",
    "display(Latex(r\"p-value $={p_val}$, \".format(p_val = p_val) + matter))"
   ]
  },
  {
   "cell_type": "code",
   "execution_count": 198,
   "id": "9c6527e8",
   "metadata": {},
   "outputs": [
    {
     "data": {
      "text/latex": [
       "p-value $=0.006330863778199551$, длинная лучше"
      ],
      "text/plain": [
       "<IPython.core.display.Latex object>"
      ]
     },
     "metadata": {},
     "output_type": "display_data"
    }
   ],
   "source": [
    "delta = (rss_s - RSS) / (RSS / (n - p))\n",
    "p_val = stats.f.cdf(-abs(delta), 1, n - p) + stats.f.sf(abs(delta), 1, n - p)\n",
    "matter = \"длинная лучше\" if p_val < alpha else \"короткая лучше\"\n",
    "display(Latex(r\"p-value $={p_val}$, \".format(p_val = p_val) + matter))"
   ]
  },
  {
   "cell_type": "markdown",
   "id": "dd992090",
   "metadata": {},
   "source": [
    "## k)"
   ]
  },
  {
   "cell_type": "code",
   "execution_count": 199,
   "id": "abd2d658",
   "metadata": {},
   "outputs": [
    {
     "data": {
      "text/latex": [
       "$\\displaystyle I=(-0.0804,0.0653)$"
      ],
      "text/plain": [
       "<IPython.core.display.Math object>"
      ]
     },
     "metadata": {},
     "output_type": "display_data"
    }
   ],
   "source": [
    "h = R_sq - R_sq_s\n",
    "\n",
    "def find_r_sq(psi, y):\n",
    "    _, beta = find_beta(psi, y)\n",
    "    rss = np.sum((y - psi @ beta) ** 2)\n",
    "    tss = np.sum((y - np.mean(y)) ** 2)\n",
    "    return (tss - rss) / tss\n",
    "\n",
    "def delta(sample):\n",
    "    psi = sample[:, :len(sample[0]) - 1]\n",
    "    y = sample[:, -1]\n",
    "    psi_s = psi[:, mask]\n",
    "    return (find_r_sq(psi, y) - find_r_sq(psi_s, y)) - h\n",
    "\n",
    "data = np.concatenate([Psi, Y[:, np.newaxis]], axis=1)\n",
    "res = []\n",
    "n_resamples = 1000\n",
    "for _ in range(n_resamples):\n",
    "    sample = resample(data, replace=True, n_samples=n)\n",
    "    res.append(delta(sample))\n",
    "res = sorted(res)\n",
    "I = (h - res[n_resamples - 1], h - res[int(alpha * n_resamples) - 1])\n",
    "display(Math(f\"I=({I[0]:.4f},{I[1]:.4f})\"))"
   ]
  },
  {
   "cell_type": "markdown",
   "id": "8f4d18aa",
   "metadata": {},
   "source": [
    "# 2)"
   ]
  },
  {
   "cell_type": "code",
   "execution_count": 200,
   "id": "69355e4d",
   "metadata": {},
   "outputs": [],
   "source": [
    "data = [\n",
    "    [83, 85],\n",
    "    [84, 85, 85, 86, 86, 87],\n",
    "    [86, 87, 87, 87, 88, 88, 88, 88, 88, 89, 90],\n",
    "    [89, 90, 90, 91],\n",
    "    [90, 92]\n",
    "]\n",
    "alpha = 0.05\n",
    "\n",
    "Y = np.concat(data).flatten()\n",
    "N= Y.size\n",
    "n_g = len(data)"
   ]
  },
  {
   "cell_type": "markdown",
   "id": "3b340aa8",
   "metadata": {},
   "source": [
    "## a)"
   ]
  },
  {
   "cell_type": "code",
   "execution_count": 201,
   "id": "70e20f7c",
   "metadata": {},
   "outputs": [
    {
     "data": {
      "text/latex": [
       "$\\displaystyle R^2=0.81$"
      ],
      "text/plain": [
       "<IPython.core.display.Math object>"
      ]
     },
     "metadata": {},
     "output_type": "display_data"
    }
   ],
   "source": [
    "Psi = np.zeros((N, n_g), dtype=int)\n",
    "\n",
    "row = 0\n",
    "for i in range(n_g):\n",
    "    g_l = len(data[i])\n",
    "    Psi[row:row + g_l, i] = 1\n",
    "    row += g_l\n",
    "\n",
    "F = Psi.T @ Psi\n",
    "F_inv = np.linalg.inv(F)\n",
    "beta = F_inv @ Psi.T @ Y\n",
    "e = Y - (Psi @ beta)\n",
    "RSS = (e.T @ e)\n",
    "TSS = sum((y - Y.mean()) ** 2 for y in Y)\n",
    "R_sq = (TSS - RSS) / TSS\n",
    "\n",
    "display(Math(r'R^2={R_sq:.2f}'.format(R_sq=R_sq)))"
   ]
  },
  {
   "cell_type": "code",
   "execution_count": 202,
   "id": "cfb9a428",
   "metadata": {},
   "outputs": [
    {
     "data": {
      "text/latex": [
       "p-value=5.407435042473713e-07"
      ],
      "text/plain": [
       "<IPython.core.display.Latex object>"
      ]
     },
     "metadata": {},
     "output_type": "display_data"
    }
   ],
   "source": [
    "delta = float(((TSS - RSS) * (N-n_g)) / (RSS * (4)))\n",
    "p_val = float(stats.f.sf(delta, 4, 20) + stats.f.cdf(-delta, 4, 20))\n",
    "display(Latex(r\"p-value={p_val}\".format(p_val=p_val)))\n"
   ]
  },
  {
   "cell_type": "markdown",
   "id": "9a5cf68d",
   "metadata": {},
   "source": [
    "$ \\Rightarrow$ регрессия значима"
   ]
  },
  {
   "cell_type": "markdown",
   "id": "83634fb5",
   "metadata": {},
   "source": [
    "### Проверка значимости коэффициентов:\n",
    "$$ H_0: \\beta_i = 0 \\qquad H_1: \\beta_i \\neq 0 $$"
   ]
  },
  {
   "cell_type": "code",
   "execution_count": 203,
   "id": "3e692ec5",
   "metadata": {},
   "outputs": [
    {
     "data": {
      "text/latex": [
       "p-value $_1=2.4337333080496203e-29$"
      ],
      "text/plain": [
       "<IPython.core.display.Latex object>"
      ]
     },
     "metadata": {},
     "output_type": "display_data"
    },
    {
     "data": {
      "text/latex": [
       "p-value $_2=2.923672428046566e-34$"
      ],
      "text/plain": [
       "<IPython.core.display.Latex object>"
      ]
     },
     "metadata": {},
     "output_type": "display_data"
    },
    {
     "data": {
      "text/latex": [
       "p-value $_3=4.0013221255391794e-37$"
      ],
      "text/plain": [
       "<IPython.core.display.Latex object>"
      ]
     },
     "metadata": {},
     "output_type": "display_data"
    },
    {
     "data": {
      "text/latex": [
       "p-value $_4=6.033097382126891e-33$"
      ],
      "text/plain": [
       "<IPython.core.display.Latex object>"
      ]
     },
     "metadata": {},
     "output_type": "display_data"
    },
    {
     "data": {
      "text/latex": [
       "p-value $_5=4.920789040187555e-30$"
      ],
      "text/plain": [
       "<IPython.core.display.Latex object>"
      ]
     },
     "metadata": {},
     "output_type": "display_data"
    }
   ],
   "source": [
    "for i in range(len(beta)):\n",
    "    delta = (beta[i] * np.sqrt(N - n_g)) / np.sqrt(RSS * F_inv[i][i])\n",
    "    display(Latex(r\"p-value $_{i}={pv}$\".format(i = i + 1, pv = 2 * stats.t.sf(delta, N - n_g))))"
   ]
  },
  {
   "cell_type": "markdown",
   "id": "0e5828aa",
   "metadata": {},
   "source": [
    "$\\Rightarrow$ все коэффициенты значимы"
   ]
  },
  {
   "cell_type": "markdown",
   "id": "65b1e40b",
   "metadata": {},
   "source": [
    "## b)"
   ]
  },
  {
   "cell_type": "markdown",
   "id": "6cebb99f",
   "metadata": {},
   "source": [
    "### Проверка равенства средних:\n",
    "$$ H_0: \\beta_i = \\beta_j \\qquad H_1: \\beta_i \\neq \\beta_j $$"
   ]
  },
  {
   "cell_type": "code",
   "execution_count": 204,
   "id": "fedffedf",
   "metadata": {},
   "outputs": [
    {
     "data": {
      "text/latex": [
       "p-value $_{12}=0.7065$"
      ],
      "text/plain": [
       "<IPython.core.display.Latex object>"
      ]
     },
     "metadata": {},
     "output_type": "display_data"
    },
    {
     "data": {
      "text/latex": [
       "p-value $_{13}=0.3141$"
      ],
      "text/plain": [
       "<IPython.core.display.Latex object>"
      ]
     },
     "metadata": {},
     "output_type": "display_data"
    },
    {
     "data": {
      "text/latex": [
       "p-value $_{14}=0.1652$"
      ],
      "text/plain": [
       "<IPython.core.display.Latex object>"
      ]
     },
     "metadata": {},
     "output_type": "display_data"
    },
    {
     "data": {
      "text/latex": [
       "p-value $_{15}=0.1611$"
      ],
      "text/plain": [
       "<IPython.core.display.Latex object>"
      ]
     },
     "metadata": {},
     "output_type": "display_data"
    },
    {
     "data": {
      "text/latex": [
       "p-value $_{23}=0.3536$"
      ],
      "text/plain": [
       "<IPython.core.display.Latex object>"
      ]
     },
     "metadata": {},
     "output_type": "display_data"
    },
    {
     "data": {
      "text/latex": [
       "p-value $_{24}=0.1627$"
      ],
      "text/plain": [
       "<IPython.core.display.Latex object>"
      ]
     },
     "metadata": {},
     "output_type": "display_data"
    },
    {
     "data": {
      "text/latex": [
       "p-value $_{25}=0.1767$"
      ],
      "text/plain": [
       "<IPython.core.display.Latex object>"
      ]
     },
     "metadata": {},
     "output_type": "display_data"
    },
    {
     "data": {
      "text/latex": [
       "p-value $_{34}=0.4463$"
      ],
      "text/plain": [
       "<IPython.core.display.Latex object>"
      ]
     },
     "metadata": {},
     "output_type": "display_data"
    },
    {
     "data": {
      "text/latex": [
       "p-value $_{35}=0.3997$"
      ],
      "text/plain": [
       "<IPython.core.display.Latex object>"
      ]
     },
     "metadata": {},
     "output_type": "display_data"
    },
    {
     "data": {
      "text/latex": [
       "p-value $_{45}=0.8127$"
      ],
      "text/plain": [
       "<IPython.core.display.Latex object>"
      ]
     },
     "metadata": {},
     "output_type": "display_data"
    }
   ],
   "source": [
    "p_vals = []\n",
    "for i in range(len(beta)):\n",
    "    for j in range(i + 1, len(beta)):\n",
    "        delta = (beta[i] - beta[j]) / ((RSS * (F_inv[i][i] + F_inv[j][j])) ** 0.5)\n",
    "        p_val = 2 * stats.t.sf(abs(delta), N - n_g)\n",
    "        display(Latex(r\"p-value $_{{{ij}}}={pv:.4f}$\".format(ij = f\"{i+1}{j+1}\", pv = p_val)))\n",
    "        p_vals.append(p_val)"
   ]
  },
  {
   "cell_type": "markdown",
   "id": "815e6cdf",
   "metadata": {},
   "source": [
    "$\\Rightarrow$ все коэффициенты равны"
   ]
  },
  {
   "cell_type": "markdown",
   "id": "78675517",
   "metadata": {},
   "source": [
    "### Холм-Бонферрони:"
   ]
  },
  {
   "cell_type": "code",
   "execution_count": 205,
   "id": "3f7b8cc2",
   "metadata": {},
   "outputs": [
    {
     "data": {
      "text/latex": [
       "p-value $_{12}=0.7065; \\; \\alpha/2=0.0250$"
      ],
      "text/plain": [
       "<IPython.core.display.Latex object>"
      ]
     },
     "metadata": {},
     "output_type": "display_data"
    },
    {
     "data": {
      "text/latex": [
       "p-value $_{13}=0.3141; \\; \\alpha/6=0.0083$"
      ],
      "text/plain": [
       "<IPython.core.display.Latex object>"
      ]
     },
     "metadata": {},
     "output_type": "display_data"
    },
    {
     "data": {
      "text/latex": [
       "p-value $_{14}=0.1652; \\; \\alpha/8=0.0063$"
      ],
      "text/plain": [
       "<IPython.core.display.Latex object>"
      ]
     },
     "metadata": {},
     "output_type": "display_data"
    },
    {
     "data": {
      "text/latex": [
       "p-value $_{15}=0.1611; \\; \\alpha/10=0.0050$"
      ],
      "text/plain": [
       "<IPython.core.display.Latex object>"
      ]
     },
     "metadata": {},
     "output_type": "display_data"
    },
    {
     "data": {
      "text/latex": [
       "p-value $_{23}=0.3536; \\; \\alpha/5=0.0100$"
      ],
      "text/plain": [
       "<IPython.core.display.Latex object>"
      ]
     },
     "metadata": {},
     "output_type": "display_data"
    },
    {
     "data": {
      "text/latex": [
       "p-value $_{24}=0.1627; \\; \\alpha/9=0.0056$"
      ],
      "text/plain": [
       "<IPython.core.display.Latex object>"
      ]
     },
     "metadata": {},
     "output_type": "display_data"
    },
    {
     "data": {
      "text/latex": [
       "p-value $_{25}=0.1767; \\; \\alpha/7=0.0071$"
      ],
      "text/plain": [
       "<IPython.core.display.Latex object>"
      ]
     },
     "metadata": {},
     "output_type": "display_data"
    },
    {
     "data": {
      "text/latex": [
       "p-value $_{34}=0.4463; \\; \\alpha/3=0.0167$"
      ],
      "text/plain": [
       "<IPython.core.display.Latex object>"
      ]
     },
     "metadata": {},
     "output_type": "display_data"
    },
    {
     "data": {
      "text/latex": [
       "p-value $_{35}=0.3997; \\; \\alpha/4=0.0125$"
      ],
      "text/plain": [
       "<IPython.core.display.Latex object>"
      ]
     },
     "metadata": {},
     "output_type": "display_data"
    },
    {
     "data": {
      "text/latex": [
       "p-value $_{45}=0.8127; \\; \\alpha/1=0.0500$"
      ],
      "text/plain": [
       "<IPython.core.display.Latex object>"
      ]
     },
     "metadata": {},
     "output_type": "display_data"
    }
   ],
   "source": [
    "m = len(p_vals)\n",
    "p_vals = np.array(p_vals)\n",
    "ind = np.argsort(p_vals)\n",
    "k=0\n",
    "for i in range(len(beta)):\n",
    "    for j in range(i+1, len(beta)):\n",
    "        m_i = m - np.argwhere(ind == k)[0][0]\n",
    "        alpha_i = alpha / (m_i)\n",
    "        p_val = p_vals[k]\n",
    "        display(Latex(r'p-value $_{{{ij}}}={pv:.4f}; \\; \\alpha/{m_i}={a_i:.4f}$'.format(ij=f\"{i+1}{j+1}\", pv=p_val, m_i = m_i, a_i = alpha_i)))\n",
    "        k += 1"
   ]
  },
  {
   "cell_type": "markdown",
   "id": "f6dae91b",
   "metadata": {},
   "source": [
    "$\\Rightarrow$ все коэффициенты равны"
   ]
  },
  {
   "cell_type": "markdown",
   "id": "71601fbe",
   "metadata": {},
   "source": [
    "# 3)"
   ]
  },
  {
   "cell_type": "code",
   "execution_count": 206,
   "id": "117a810a",
   "metadata": {},
   "outputs": [],
   "source": [
    "Psi = np.array([[1, 0], [0,1], [1,1]])\n",
    "Y = np.array([[1], [5], [2]])"
   ]
  },
  {
   "cell_type": "markdown",
   "id": "3efbe78f",
   "metadata": {},
   "source": [
    "## a)"
   ]
  },
  {
   "cell_type": "code",
   "execution_count": 207,
   "id": "2b3f9dd1",
   "metadata": {},
   "outputs": [
    {
     "data": {
      "text/latex": [
       "$\\displaystyle \\omega=-0.33\\varepsilon + 3.67\\eta$"
      ],
      "text/plain": [
       "<IPython.core.display.Math object>"
      ]
     },
     "metadata": {},
     "output_type": "display_data"
    }
   ],
   "source": [
    "F = Psi.T @ Psi\n",
    "F_inv = np.linalg.inv(F)\n",
    "beta = F_inv @ Psi.T @ Y \n",
    "display(Math(r'\\omega={a:.2f}\\varepsilon + {b:.2f}\\eta'.format(a=beta[0,0], b=beta[1,0])))"
   ]
  },
  {
   "cell_type": "markdown",
   "id": "913184ee",
   "metadata": {},
   "source": [
    "## b)"
   ]
  },
  {
   "cell_type": "code",
   "execution_count": 208,
   "id": "70c953eb",
   "metadata": {},
   "outputs": [
    {
     "name": "stdout",
     "output_type": "stream",
     "text": [
      "Оптимальный параметр регуляризации:\n"
     ]
    },
    {
     "data": {
      "text/latex": [
       "$\\displaystyle \\alpha=1.5000000000000002$"
      ],
      "text/plain": [
       "<IPython.core.display.Math object>"
      ]
     },
     "metadata": {},
     "output_type": "display_data"
    },
    {
     "data": {
      "image/png": "[encoded data removed]",
      "text/plain": [
       "<Figure size 640x480 with 1 Axes>"
      ]
     },
     "metadata": {},
     "output_type": "display_data"
    }
   ],
   "source": [
    "\n",
    "def find_CVSS_ridge(Psi, Y, a):\n",
    "    CVSS = 0\n",
    "    n = Y.shape[0]\n",
    "    for i in range(n):\n",
    "        mask = np.ones(n, dtype=bool)\n",
    "        mask[i]= False\n",
    "        beta = Ridge(alpha = a, fit_intercept=False).fit(Psi[mask], Y[mask]).coef_\n",
    "        y_pred = Psi[i] @ beta\n",
    "        CVSS += np.square(Y[i] - y_pred)\n",
    "    return CVSS\n",
    "\n",
    "alpha = np.linspace(0.1, 10, num=100)\n",
    "CVSS = np.array([find_CVSS_ridge(Psi, Y, a) for a in alpha])\n",
    "\n",
    "print(\"Оптимальный параметр регуляризации:\")\n",
    "display(Math(r'\\alpha={a}'.format(a=alpha[np.argmin(CVSS)])))\n",
    "fig, ax = plt.subplots(1, 1)\n",
    "ax.plot(alpha, CVSS)\n",
    "ax.set_ylabel(\"CVSS\")\n",
    "ax.set_xlabel(r\"Параметр регуляризации $\\alpha$\")\n",
    "ax.grid()"
   ]
  },
  {
   "cell_type": "code",
   "execution_count": 209,
   "id": "6be662c3",
   "metadata": {},
   "outputs": [
    {
     "name": "stdout",
     "output_type": "stream",
     "text": [
      "Оптимальный параметр регуляризации:\n"
     ]
    },
    {
     "data": {
      "text/latex": [
       "$\\displaystyle \\alpha=6.0$"
      ],
      "text/plain": [
       "<IPython.core.display.Math object>"
      ]
     },
     "metadata": {},
     "output_type": "display_data"
    },
    {
     "data": {
      "image/png": "[encoded data removed]",
      "text/plain": [
       "<Figure size 640x480 with 1 Axes>"
      ]
     },
     "metadata": {},
     "output_type": "display_data"
    }
   ],
   "source": [
    "def find_CVSS_lasso(Psi, Y, a):\n",
    "    CVSS = 0\n",
    "    n = Y.shape[0]\n",
    "    for i in range(n):\n",
    "        mask = np.ones(n, dtype=bool)\n",
    "        mask[i]= False\n",
    "        beta = Lasso(alpha = a / 4, fit_intercept=False).fit(Psi[mask], Y[mask]).coef_\n",
    "        y_pred = Psi[i] @ beta\n",
    "        CVSS += np.square(Y[i] - y_pred)\n",
    "    return CVSS\n",
    "\n",
    "alpha = np.linspace(0.1, 10, num=100)\n",
    "CVSS = np.array([find_CVSS_lasso(Psi, Y, a) for a in alpha])\n",
    "\n",
    "print(\"Оптимальный параметр регуляризации:\")\n",
    "display(Math(r'\\alpha={a}'.format(a=alpha[np.argmin(CVSS)])))\n",
    "fig, ax = plt.subplots(1, 1)\n",
    "ax.plot(alpha, CVSS)\n",
    "ax.set_ylabel(\"CVSS\")\n",
    "ax.set_xlabel(r\"Параметр регуляризации $\\alpha$\")\n",
    "ax.grid()"
   ]
  }
 ],
 "metadata": {
  "kernelspec": {
   "display_name": "Python 3",
   "language": "python",
   "name": "python3"
  },
  "language_info": {
   "codemirror_mode": {
    "name": "ipython",
    "version": 3
   },
   "file_extension": ".py",
   "mimetype": "text/x-python",
   "name": "python",
   "nbconvert_exporter": "python",
   "pygments_lexer": "ipython3",
   "version": "3.13.3"
  }
 },
 "nbformat": 4,
 "nbformat_minor": 5
}
